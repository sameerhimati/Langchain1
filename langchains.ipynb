{
 "cells": [
  {
   "cell_type": "code",
   "execution_count": 1,
   "metadata": {},
   "outputs": [],
   "source": [
    "import os\n",
    "import openai\n",
    "import sys\n",
    "os.environ[\"LANGCHAIN_TRACING_V2\"] = \"true\"\n",
    "os.environ[\"LANGCHAIN_ENDPOINT\"] = \"https://api.langchain.plus\"\n",
    "os.environ[\"LANGCHAIN_API_KEY\"] = os.environ[\"LANGSMITH_API_KEY\"]\n",
    "\n",
    "sys.path.append('../..')\n",
    "\n",
    "from dotenv import load_dotenv, find_dotenv\n",
    "_ = load_dotenv(find_dotenv()) # read local .env file\n",
    "\n",
    "openai.api_key  = os.environ['OPENAI_API_KEY']\n"
   ]
  },
  {
   "cell_type": "code",
   "execution_count": 113,
   "metadata": {},
   "outputs": [],
   "source": [
    "from langchain.document_loaders import PyPDFLoader\n",
    "from langchain.document_loaders import PDFPlumberLoader\n",
    "loader = PyPDFLoader(\"AmexStatements/2024-02-21.pdf\")\n",
    "loader2 = PDFPlumberLoader(\"AmexStatements/2024-02-21.pdf\")\n",
    "pages = loader.load()\n",
    "pages2 = loader2.load()"
   ]
  },
  {
   "cell_type": "code",
   "execution_count": 114,
   "metadata": {},
   "outputs": [
    {
     "data": {
      "text/plain": [
       "9"
      ]
     },
     "execution_count": 114,
     "metadata": {},
     "output_type": "execute_result"
    }
   ],
   "source": [
    "len(pages)"
   ]
  },
  {
   "cell_type": "code",
   "execution_count": 115,
   "metadata": {},
   "outputs": [
    {
     "data": {
      "text/plain": [
       "9"
      ]
     },
     "execution_count": 115,
     "metadata": {},
     "output_type": "execute_result"
    }
   ],
   "source": [
    "len(pages2)"
   ]
  },
  {
   "cell_type": "code",
   "execution_count": 125,
   "metadata": {},
   "outputs": [],
   "source": [
    "page = pages[2]\n",
    "page_also = pages2[2]"
   ]
  },
  {
   "cell_type": "code",
   "execution_count": 126,
   "metadata": {},
   "outputs": [
    {
     "name": "stdout",
     "output_type": "stream",
     "text": [
      "International Collect\n",
      "Lost orStolen Card\n",
      "Cash Advance atATMs Inquiries1-336-393-1111\n",
      "1-800-992-3404\n",
      "1-800-CASH-NOW\n",
      "Online chat at oruse andamericanexpress.com\n",
      "P.O. BOX 981535\n",
      "ELPASO, TX\n",
      "79998-1535POBOX 6031\n",
      "CAROL STREAM IL\n",
      "60197-6031\n",
      "-$58.03 -$2,975.13 -$3,033.16\n",
      "$0.00 -$14.07 -$14.07\n",
      "02/07/24* AUTOPAY PAYMENT RECEIVED -THANK YOU\n",
      "JPMorgan Chase Bank, NA-$3,033.16\n",
      "01/31/24 UBER EATS\n",
      "help.uber.com CA\n",
      "KAQ2NFXW 94103-$14.07\n",
      "Card Ending 0-21003Foreign\n",
      "Spend\n",
      "01/23/24 DANS PIZZA 172870884907004 DOWNERS GROVE IL\n",
      "KEVIN_MARCINIEC@YAHOO.COM$20.14\n",
      "01/25/24 4TE*KELLER WILLIAMS EXPER 000192841 DOWNERS GROVE IL\n",
      "6305980755$109.20\n",
      "01/25/24 LAFITNESS CORP INTL IRVINE CA\n",
      "MEMBERSHIP FEES$10.00p.3/8\n",
      "Continued onreverseFor more information onyour Pay Over Time Limit and your purchasing\n",
      "options, please see\n",
      "Nomonthly fees. Nominimum opening deposit. 24/7 customer support.\n",
      "Help meet your savings goals with anAmerican Express High Yield\n",
      "Savings Account. Terms apply. Member FDIC. Learn more byvisitingCustomer Care &Billing Inquiries\n",
      "Large Print &Braille Statements1-800-327-2177\n",
      "1-800-327-2177\n",
      "Hearing Impaired\n",
      "americanexpress.com Relay dial 711 1-800-327-2177Website:\n",
      "Customer Care\n",
      "&Billing InquiriesPayments\n",
      "Pay InFullPay Over Time /\n",
      "Cash Advance Total\n",
      "Payments\n",
      "Credits\n",
      "Total Payments and Credits -$58.03 -$2,989.20 -$3,047.23\n",
      "Payments Amount\n",
      "Credits Amount\n",
      "Pay InFull Pay Over Time Total\n",
      "Total New Charges $3,624.47 $508.66 $4,133.13\n",
      "SHIMATI\n",
      "AmountPayments andCredits\n",
      "New ChargesSHIMATI\n",
      "Closing Date 02/21/24 Account Ending 0-21003\n",
      "page 6\n",
      "americanexpress.com/save\n",
      "*Indicates posting date -denotes Pay Over Time and/or Cash Advance activity\n",
      "-denotes Pay Over Time and/or Cash Advance activitySummary\n",
      "Detail\n",
      "Summary\n",
      "DetailAmerican Express® High Yield Savings AccountAmerican Express® Gold Card\n",
      "\n"
     ]
    }
   ],
   "source": [
    "print(page.page_content)"
   ]
  },
  {
   "cell_type": "code",
   "execution_count": 127,
   "metadata": {},
   "outputs": [
    {
     "name": "stdout",
     "output_type": "stream",
     "text": [
      "American Express® Gold Card p.3/8\n",
      "SHIMATI\n",
      "ClosingDate02/21/24 AccountEnding0-21003\n",
      "CustomerCare&BillingInquiries 1-800-327-2177\n",
      "InternationalCollect 1-336-393-1111 Website:americanexpress.com\n",
      "LostorStolenCard 1-800-992-3404\n",
      "CashAdvanceatATMsInquiries 1-800-CASH-NOW CustomerCare Payments\n",
      "LargePrint&BrailleStatements 1-800-327-2177 &BillingInquiries POBOX6031\n",
      "P.O.BOX981535 CAROLSTREAMIL\n",
      "ELPASO,TX 60197-6031\n",
      "79998-1535\n",
      "HearingImpaired\n",
      "Onlinechatatamericanexpress.comoruseRelaydial711and1-800-327-2177\n",
      "FormoreinformationonyourPayOverTimeLimitandyourpurchasing\n",
      "options,pleaseseepage6\n",
      "AmericanExpress®HighYieldSavingsAccount\n",
      "Nomonthlyfees.Nominimumopeningdeposit.24/7customersupport.\n",
      "Help meet your savings goals with an American Express High Yield\n",
      "Savings Account. Terms apply. Member FDIC. Learn more by visiting\n",
      "americanexpress.com/save\n",
      "Payments and Credits\n",
      "Summary\n",
      "PayOverTime /\n",
      "PayInFull CashAdvance Total\n",
      "Payments -$58.03 -$2,975.13 -$3,033.16\n",
      "Credits $0.00 -$14.07 -$14.07\n",
      "TotalPaymentsandCredits -$58.03 -$2,989.20 -$3,047.23\n",
      "Detail *Indicatespostingdate -denotesPayOverTimeand/orCashAdvanceactivity\n",
      "Payments Amount\n",
      "02/07/24* AUTOPAYPAYMENTRECEIVED-THANKYOU -$3,033.16\n",
      "JPMorganChaseBank,NA\n",
      "Credits Amount\n",
      "01/31/24 UBEREATS -$14.07\n",
      "help.uber.com CA\n",
      "KAQ2NFXW94103\n",
      "New Charges\n",
      "Summary\n",
      "PayInFull PayOverTime Total\n",
      "Total NewCharges $3,624.47 $508.66 $4,133.13\n",
      "Detail -denotesPayOverTimeand/orCashAdvanceactivity\n",
      "SHIMATI\n",
      "CardEnding0-21003\n",
      "Foreign\n",
      "Spend Amount\n",
      "01/23/24 DANSPIZZA172870884907004 DOWNERSGROVE IL $20.14\n",
      "KEVIN_MARCINIEC@YAHOO.COM\n",
      "01/25/24 4TE*KELLERWILLIAMSEXPER000192841 DOWNERSGROVE IL $109.20\n",
      "6305980755\n",
      "01/25/24 LAFITNESSCORPINTL IRVINE CA $10.00\n",
      "MEMBERSHIPFEES\n",
      "Continuedonreverse\n",
      "\n"
     ]
    }
   ],
   "source": [
    "print(page_also.page_content)"
   ]
  },
  {
   "cell_type": "code",
   "execution_count": 128,
   "metadata": {},
   "outputs": [
    {
     "data": {
      "text/plain": [
       "{'source': 'AmexStatements/2024-02-21.pdf',\n",
       " 'file_path': 'AmexStatements/2024-02-21.pdf',\n",
       " 'page': 2,\n",
       " 'total_pages': 9,\n",
       " 'Subject': '',\n",
       " 'CreationDate': \"D:20240519155457-07'00'\",\n",
       " 'Producer': 'OpenText Output Transformation Engine - 16.3.19                                                     ',\n",
       " 'Author': '',\n",
       " 'Creator': '',\n",
       " 'Title': '',\n",
       " 'ModDate': \"D:20240519155457-07'00'\",\n",
       " 'Keywords': ''}"
      ]
     },
     "execution_count": 128,
     "metadata": {},
     "output_type": "execute_result"
    }
   ],
   "source": [
    "page_also.metadata"
   ]
  },
  {
   "cell_type": "code",
   "execution_count": 7,
   "metadata": {},
   "outputs": [],
   "source": [
    "from langchain.document_loaders.generic import GenericLoader\n",
    "from langchain.document_loaders.parsers import OpenAIWhisperParser\n",
    "from langchain.document_loaders.blob_loaders.youtube_audio import YoutubeAudioLoader"
   ]
  },
  {
   "cell_type": "code",
   "execution_count": 8,
   "metadata": {},
   "outputs": [],
   "source": [
    "from langchain.text_splitter import RecursiveCharacterTextSplitter, CharacterTextSplitter"
   ]
  },
  {
   "cell_type": "code",
   "execution_count": 211,
   "metadata": {},
   "outputs": [
    {
     "name": "stdout",
     "output_type": "stream",
     "text": [
      "AmericanExpress® Gold Card p.1/10\n",
      "SHIMATI CustomerCare: 1-800-327-2177\n",
      "ClosingDate07/23/23 TTY: UseRelay711\n",
      "AccountEnding0-21003 Website: americanexpress.com\n",
      "MembershipRewards®Points\n",
      "New Balance $1,146.55\n",
      "AvailableandPendingasof06/30/23\n",
      "Minimum Payment Due $40.00 166,033\n",
      "FormoredetailsaboutRewards,please\n",
      "visit americanexpress.com/rewardsinfo\n",
      "Payment Due Date 08/17/23\n",
      "AccountSummary\n",
      "LatePaymentWarning:IfwedonotreceiveyourMinimumPaymentDueby PayInFull\n",
      "the Payment Due Date of 08/17/23, you may have to pay a late fee of up to PreviousBalance $1,170.87\n",
      "$40.00 and your Pay Over Time APR may be increased to the Penalty APR of Payments/Credits -$1,170.87\n",
      "29.99%. NewCharges +$0.00\n",
      "Fees +$0.00\n",
      "NewBalance = $0.00\n",
      "PayOverTimeand/orCashAdvance\n",
      "PreviousBalance $0.00\n",
      "MinimumPaymentWarning:IfyouhaveaPayOverTimeand/orCashAdvance Payments/Credits -$1,274.41\n",
      "balanceandyoumakeonlytheminimumpaymenteachperiod,youwillpaymorein NewPayOverTimeCharges +$2,420.96\n",
      "interestanditwilltakeyoulongertopayoffyourbalance.Forexample:\n",
      "NewCashAdvances +$0.00\n",
      "Fees +$0.00\n",
      "Ifyoumakenoadditional Youwillpayoffthebalance Andyouwillpayan InterestCharged +$0.00\n",
      "chargesandeachmonth shownonthisstatementin estimatedtotalof...\n",
      "NewBalance = $1,146.55\n",
      "youpay... about...\n",
      "MinimumDue $40.00\n",
      "Onlythe AccountTotal\n",
      "4years $1,930\n",
      "MinimumPaymentDue PreviousBalance $1,170.87\n",
      "Payments/Credits -$2,445.28\n",
      "$1,713 NewCharges +$2,420.96\n",
      "$48 3years (Savings=$217)\n",
      "NewCashAdvances +$0.00\n",
      "Fees +$0.00\n",
      "Ifyouwouldlikeinformationaboutcreditcounselingservices,call1-888-733-4139. InterestCharged +$0.00\n",
      "Seepage2forimportantinformationaboutyouraccount. NewBalance $1,146.55\n",
      "MinimumPaymentDue $40.00\n",
      "PleaserefertotheIMPORTANTNOTICESsectionon\n",
      "page9. PayOverTimeLimit $3,000.00\n",
      "AvailablePayOverTimeLimit $1,853.45\n",
      "FormoreinformationonyourPayOverTimeLimitandyourpurchasing\n",
      "options,pleaseseepage7\n",
      "Continuedonpage3\n",
      "Pleasefoldontheperforationbelow,detachandreturnwithyourpayment\n",
      "PaymentCoupon PaybyComputer PaybyPhone AccountEnding0-21003\n",
      "Donotstapleorusepaperclips americanexpress.com/pbc 1-800-472-9297\n",
      "Enter15digitaccount#onallpayments.\n",
      "MakecheckpayabletoAmericanExpress.\n",
      "SHIMATI PaymentDueDate\n",
      "2001SMEYERSRD 08/17/23\n",
      "APT301\n",
      "OAKBROOKTERRACEIL60181-5271 NewBalance\n",
      "$1,146.55\n",
      "MinimumPaymentDue\n",
      "$40.00\n",
      ".\n",
      "Seereversesideforinstructions AMERICANEXPRESS $\n",
      "onhowtoupdateyouraddress, POBOX6031 Amount Enclosed\n",
      "phonenumber,oremail. CAROLSTREAMIL60197-6031\n",
      "\n"
     ]
    }
   ],
   "source": [
    "from langchain.document_loaders import PyPDFLoader\n",
    "import os\n",
    "\n",
    "loaders = []\n",
    "for file in os.listdir(\"AmexStatements\"):\n",
    "    loaders.append(PDFPlumberLoader(f\"AmexStatements/{file}\"))\n",
    "# Load PDF\n",
    "\n",
    "docs = []\n",
    "for loader in loaders:\n",
    "    docs.extend(loader.load())\n",
    "\n",
    "len(docs)\n",
    "print(docs[0].page_content)"
   ]
  },
  {
   "cell_type": "code",
   "execution_count": 212,
   "metadata": {},
   "outputs": [],
   "source": [
    "# Split\n",
    "from langchain.text_splitter import RecursiveCharacterTextSplitter\n",
    "import re\n",
    "\n",
    "text_splitter = RecursiveCharacterTextSplitter(\n",
    "    chunk_size=200,\n",
    "    chunk_overlap=20,\n",
    ")"
   ]
  },
  {
   "cell_type": "code",
   "execution_count": 213,
   "metadata": {},
   "outputs": [
    {
     "name": "stdout",
     "output_type": "stream",
     "text": [
      "2423\n"
     ]
    }
   ],
   "source": [
    "splits = text_splitter.split_documents(docs)\n",
    "print(len(splits))"
   ]
  },
  {
   "cell_type": "code",
   "execution_count": 216,
   "metadata": {},
   "outputs": [
    {
     "name": "stdout",
     "output_type": "stream",
     "text": [
      "page_content='8666111979\\nGROCERYSTORES\\n01/26/24 SPACCANAPOLI CHICAGO IL $84.42\\n773-878-2420\\n01/29/24 ETIHADAIRWAYSDESMOINES DESMOINES $1,735.36\\nETIHADAIRWAYS\\nFrom: To: Carrier: Class:' metadata={'source': 'AmexStatements/2024-02-21.pdf', 'file_path': 'AmexStatements/2024-02-21.pdf', 'page': 3, 'total_pages': 9, 'Subject': '', 'CreationDate': \"D:20240519155457-07'00'\", 'Producer': 'OpenText Output Transformation Engine - 16.3.19                                                     ', 'Author': '', 'Creator': '', 'Title': '', 'ModDate': \"D:20240519155457-07'00'\", 'Keywords': ''}\n"
     ]
    }
   ],
   "source": [
    "print(splits[1202])"
   ]
  },
  {
   "cell_type": "code",
   "execution_count": 217,
   "metadata": {},
   "outputs": [],
   "source": [
    "from langchain_openai import OpenAIEmbeddings\n",
    "embedding = OpenAIEmbeddings()"
   ]
  },
  {
   "cell_type": "code",
   "execution_count": 219,
   "metadata": {},
   "outputs": [
    {
     "name": "stdout",
     "output_type": "stream",
     "text": [
      "8294\n"
     ]
    }
   ],
   "source": [
    "from langchain.vectorstores import Chroma\n",
    "persist_directory = 'docs/chroma/' # rm -rf ./docs/chroma  # remove old database files if any\n",
    "\n",
    "vectordb = Chroma.from_documents(\n",
    "    documents=splits,\n",
    "    embedding=embedding\n",
    ")\n",
    "\n",
    "print(vectordb._collection.count())"
   ]
  },
  {
   "cell_type": "code",
   "execution_count": 39,
   "metadata": {},
   "outputs": [
    {
     "name": "stdout",
     "output_type": "stream",
     "text": [
      "1089\n"
     ]
    }
   ],
   "source": [
    "# embedding = OpenAIEmbeddings()\n",
    "# vectordb = Chroma(\n",
    "#     persist_directory=persist_directory,\n",
    "#     embedding_function=embedding\n",
    "# )\n",
    "\n",
    "# print(vectordb._collection.count())"
   ]
  },
  {
   "cell_type": "code",
   "execution_count": 220,
   "metadata": {},
   "outputs": [],
   "source": [
    "question = \"Here are all my creditcard statements, I am looking for a transaction by a vendor called ATHLETICGREENS?\"\n",
    "docs_ss = vectordb.similarity_search(question,k=3)"
   ]
  },
  {
   "cell_type": "code",
   "execution_count": 222,
   "metadata": {},
   "outputs": [
    {
     "data": {
      "text/plain": [
       "'do this, we will credit your accountfor theamount youthinkis in error, so that you will have theuse ofthe money\\nduringthetimeittakesustocompleteourinvestigation.\\nYour Cardmember Agreement'"
      ]
     },
     "execution_count": 222,
     "metadata": {},
     "output_type": "execute_result"
    }
   ],
   "source": [
    "docs_ss[0].page_content"
   ]
  },
  {
   "cell_type": "code",
   "execution_count": 223,
   "metadata": {},
   "outputs": [
    {
     "data": {
      "text/plain": [
       "'do this, we will credit your accountfor theamount youthinkis in error, so that you will have theuse '"
      ]
     },
     "execution_count": 223,
     "metadata": {},
     "output_type": "execute_result"
    }
   ],
   "source": [
    "docs_ss[1].page_content[:100]"
   ]
  },
  {
   "cell_type": "code",
   "execution_count": 224,
   "metadata": {},
   "outputs": [
    {
     "data": {
      "text/plain": [
       "'do this, we will credit your accountfor theamount youthinkis in error, so that you will have theuse '"
      ]
     },
     "execution_count": 224,
     "metadata": {},
     "output_type": "execute_result"
    }
   ],
   "source": [
    "docs_mmr = vectordb.max_marginal_relevance_search(question,k=3)\n",
    "docs_mmr[0].page_content[:100]"
   ]
  },
  {
   "cell_type": "code",
   "execution_count": 225,
   "metadata": {},
   "outputs": [
    {
     "data": {
      "text/plain": [
       "'do this, we will credit your accountfor theamount youthinkis in error, so that you will have theuse '"
      ]
     },
     "execution_count": 225,
     "metadata": {},
     "output_type": "execute_result"
    }
   ],
   "source": [
    "docs_mmr[1].page_content[:100]"
   ]
  },
  {
   "cell_type": "code",
   "execution_count": 230,
   "metadata": {},
   "outputs": [],
   "source": [
    "question = \"ATHLETIC GREENS\""
   ]
  },
  {
   "cell_type": "code",
   "execution_count": 232,
   "metadata": {},
   "outputs": [
    {
     "name": "stdout",
     "output_type": "stream",
     "text": [
      "MERCHANDISE\n",
      "04/06/24 ATHLETICGREENS CARSONCITY NV $159.58\n",
      "+17029983337\n",
      "04/06/24 PY*LOUMALNATIS-OAKBR\n",
      "MERCHANDISE\n",
      "04/06/24 ATHLETICGREENS CARSONCITY NV $159.58\n",
      "+17029983337\n",
      "04/06/24 PY*LOUMALNATIS-OAKBR\n",
      "TST*LAFOURNETTE300542287 CHICAGO IL $42.24\n",
      "3126249430\n",
      "\n",
      " AMAZON.COM AMZN.COM/BILL WA $16.21\n",
      "MERCHANDI\n"
     ]
    }
   ],
   "source": [
    "docs = vectordb.similarity_search(\n",
    "    question,\n",
    "    k=3,\n",
    "    filter={\"source\":\"AmexStatements/2024-04-22.pdf\"}\n",
    ")\n",
    "\n",
    "for d in docs:\n",
    "    print(d.page_content[:100])"
   ]
  },
  {
   "cell_type": "code",
   "execution_count": 233,
   "metadata": {},
   "outputs": [],
   "source": [
    "from langchain.llms import OpenAI\n",
    "from langchain.retrievers.self_query.base import SelfQueryRetriever\n",
    "from langchain.chains.query_constructor.base import AttributeInfo\n"
   ]
  },
  {
   "cell_type": "code",
   "execution_count": 238,
   "metadata": {},
   "outputs": [],
   "source": [
    "metadata_field_info = [\n",
    "    AttributeInfo(\n",
    "        name=\"statement\",\n",
    "        description=\"A file with the spending from the month, should be one of the files in the `AmexStatements/` directory\",\n",
    "        type=\"string\",\n",
    "    ),\n",
    "    AttributeInfo(\n",
    "        name=\"page\",\n",
    "        description=\"The page from the statement for the month\",\n",
    "        type=\"integer\",\n",
    "    ),\n",
    "    AttributeInfo(\n",
    "        name=\"date\",\n",
    "        description=\"The date of the transaction\",\n",
    "        type=\"date\",\n",
    "    ),\n",
    "    AttributeInfo(\n",
    "        name=\"amount\",\n",
    "        description=\"The amount of the transaction\",\n",
    "        type=\"float\",\n",
    "    ),\n",
    "    AttributeInfo(\n",
    "        name=\"description\",\n",
    "        description=\"The description of the transaction\",\n",
    "        type=\"string\",\n",
    "    ),\n",
    "    AttributeInfo(\n",
    "        name=\"category\",\n",
    "        description=\"The category of the transaction\",\n",
    "        type=\"string\",\n",
    "    ),\n",
    "    AttributeInfo(\n",
    "        name = \"transaction\",\n",
    "        description = \"A row from the table of transactions in the statement\",\n",
    "        type = \"object\"\n",
    "    )\n",
    "]\n"
   ]
  },
  {
   "cell_type": "code",
   "execution_count": 239,
   "metadata": {},
   "outputs": [],
   "source": [
    "document_content_description = \"Amex Statement\"\n",
    "llm = OpenAI(model='gpt-3.5-turbo-instruct', temperature=0)\n",
    "retriever = SelfQueryRetriever.from_llm(\n",
    "    llm,\n",
    "    vectordb,\n",
    "    document_content_description,\n",
    "    metadata_field_info,\n",
    "    verbose=True\n",
    ")\n",
    "\n",
    "question = \"How much did I spend at ATHLETIC GREENS?\"\n",
    "docs = retriever.invoke(question)\n",
    "for d in docs:\n",
    "    print(d.metadata)\n",
    "    print(d.page_content)\n",
    "    "
   ]
  },
  {
   "cell_type": "code",
   "execution_count": 240,
   "metadata": {},
   "outputs": [],
   "source": [
    "from langchain.retrievers import ContextualCompressionRetriever\n",
    "from langchain.retrievers.document_compressors import LLMChainExtractor"
   ]
  },
  {
   "cell_type": "code",
   "execution_count": 241,
   "metadata": {},
   "outputs": [],
   "source": [
    "def pretty_print_docs(docs):\n",
    "    print(f\"\\n{'-' * 100}\\n\".join([f\"Document {i+1}:\\n\\n\" + d.page_content for i, d in enumerate(docs)]))\n"
   ]
  },
  {
   "cell_type": "code",
   "execution_count": 242,
   "metadata": {},
   "outputs": [],
   "source": [
    "# Wrap our vectorstore\n",
    "llm = OpenAI(temperature=0, model=\"gpt-3.5-turbo-instruct\")\n",
    "compressor = LLMChainExtractor.from_llm(llm)"
   ]
  },
  {
   "cell_type": "code",
   "execution_count": 243,
   "metadata": {},
   "outputs": [
    {
     "name": "stdout",
     "output_type": "stream",
     "text": [
      "Document 1:\n",
      "\n",
      "04/06/24 ATHLETICGREENS CARSONCITY NV $159.58\n",
      "----------------------------------------------------------------------------------------------------\n",
      "Document 2:\n",
      "\n",
      "04/06/24 ATHLETICGREENS CARSONCITY NV $159.58\n",
      "----------------------------------------------------------------------------------------------------\n",
      "Document 3:\n",
      "\n",
      "02/17/23 ATHLETICGREENS CARSONCITY NV $88.00\n",
      "----------------------------------------------------------------------------------------------------\n",
      "Document 4:\n",
      "\n",
      "02/17/23 ATHLETICGREENS CARSONCITY NV $88.00\n"
     ]
    }
   ],
   "source": [
    "compression_retriever = ContextualCompressionRetriever(\n",
    "    base_compressor=compressor,\n",
    "    base_retriever=vectordb.as_retriever()\n",
    ")\n",
    "\n",
    "compressed_docs = compression_retriever.get_relevant_documents(question)\n",
    "pretty_print_docs(compressed_docs)"
   ]
  },
  {
   "cell_type": "code",
   "execution_count": 275,
   "metadata": {},
   "outputs": [
    {
     "name": "stdout",
     "output_type": "stream",
     "text": [
      "Document 1:\n",
      "\n",
      "Continuedonnextpage\n",
      "----------------------------------------------------------------------------------------------------\n",
      "Document 2:\n",
      "\n",
      "Continuedonnextpage\n",
      "----------------------------------------------------------------------------------------------------\n",
      "Document 3:\n",
      "\n",
      "Continuedonnextpage\n",
      "----------------------------------------------------------------------------------------------------\n",
      "Document 4:\n",
      "\n",
      "Continuedonnextpage\n",
      "----------------------------------------------------------------------------------------------------\n",
      "Document 5:\n",
      "\n",
      "Continuedonnextpage\n"
     ]
    }
   ],
   "source": [
    "compression_retriever = ContextualCompressionRetriever(\n",
    "    base_compressor=compressor,\n",
    "    base_retriever=vectordb.as_retriever(search_type = \"mmr\", search_kwargs={\"k\": 30})\n",
    ")\n",
    "compressed_docs = compression_retriever.get_relevant_documents(\"on hotels\")\n",
    "pretty_print_docs(compressed_docs)"
   ]
  },
  {
   "cell_type": "code",
   "execution_count": 245,
   "metadata": {},
   "outputs": [],
   "source": [
    "from langchain.retrievers import SVMRetriever\n",
    "from langchain.retrievers import TFIDFRetriever\n",
    "\n",
    "pages = loader.load()\n",
    "all_page_text=[p.page_content for p in pages]\n",
    "joined_page_text=\" \".join(all_page_text)\n",
    "\n",
    "# Split\n",
    "text_splitter = RecursiveCharacterTextSplitter(chunk_size = 1500,chunk_overlap = 150)\n",
    "splits = text_splitter.split_text(joined_page_text)\n",
    "\n",
    "\n",
    "# Retrieve\n",
    "svm_retriever = SVMRetriever.from_texts(splits,embedding)\n",
    "tfidf_retriever = TFIDFRetriever.from_texts(splits)"
   ]
  },
  {
   "cell_type": "code",
   "execution_count": 246,
   "metadata": {},
   "outputs": [
    {
     "name": "stderr",
     "output_type": "stream",
     "text": [
      "/Users/sameer/anaconda3/envs/lang/lib/python3.12/site-packages/sklearn/svm/_classes.py:31: FutureWarning: The default value of `dual` will change from `True` to `'auto'` in 1.5. Set the value of `dual` explicitly to suppress the warning.\n",
      "  warnings.warn(\n"
     ]
    },
    {
     "data": {
      "text/plain": [
       "Document(page_content=\"FASTFOODRESTAURANT\\n10/11/23 ILTOLLWAY-WEB9031 DOWNERSGROVE IL $31.60\\n20037230936660466\\nILTOLLWAYVIOLATIONNOTIC\\n10/11/23 TST*RICCARDOOSTERIA00024644 CHICAGO IL $116.70\\nRESTAURANT\\n10/12/23 LEVAINBAKERY Chicago IL $11.12\\nsquareup.com/receipts\\n10/12/23 AplPaySTARBUCKSSTORE0026 DOWNERSGROVE IL $0.67\\nFASTFOODRESTAURANT\\n10/12/23 AplPayCHICK-FIL-A LOMBARD IL $11.75\\n6305860830\\n10/12/23 PETE'SFRESHMARKET OAKBROOKTERRACE IL $85.36\\n6308126100\\nContinuedonreverse\\n SHIMATI AccountEnding0-21003 p.6/9\\nDetailContinued -denotesPayOverTimeand/orCashAdvanceactivity\\nForeign\\nSpend Amount\\n10/13/23 UberTrip help.uber.com CA $18.94\\nSP25Z6LF60527\\n10/13/23 CHIPOTLEONLINE NEWPORTBEACH CA $13.19\\n133992660\\nFASTFOODRESTAURANT\\n10/14/23 STATEFARMINSURANCE BLOOMINGTON IL $318.76\\n8009566310\\n10/14/23 PORTILLOSHOTDOGS#10NAPERVI1624665 NAPERVILLE IL $14.87\\n13018760540\\nJumboHotDog\\nCelerySalt\\nMustard\\nLCCS\\n10/14/23 UberTrip help.uber.com CA $10.97\\nSYPLO52W60523\\n10/14/23 TST*JIBEKJOLU-LINCOLN00092818 CHICAGO IL $63.12\\nRESTAURANT\\n10/14/23 CHICK-FIL-A LOMBARD IL $22.24\\n6305860830\\n10/14/23 AplPay1000TALESFAMILYRESTAUR545500001 MTPROSPECT IL $9.68\\nINFO@RAINFOODUSA.COM\\n10/15/23 PARKCHICAGOMOBILE0539 CHICAGO IL $20.00\\n877-242-7901\\n10/15/23 PETE'SFRESHMARKET OAKBROOKTERRACE IL $34.14\\n6308126100\\n10/15/23 AplPayPETE'SFRESHMARKET OAKBROOKTERRACE IL $3.96\\n6308126100\\n10/16/23 AIRCANADA WINNIPEG 40.80 $29.98\\nCanadianDollars\\nAirCanada\\nFrom: To: Carrier: Class:\\nTORONTOLESTERBP CHICAGOO'HAREINT AC X\\nCHICAGOO'HAREINT AC L\")"
      ]
     },
     "execution_count": 246,
     "metadata": {},
     "output_type": "execute_result"
    }
   ],
   "source": [
    "docs_svm=svm_retriever.get_relevant_documents(question)\n",
    "docs_svm[0]"
   ]
  },
  {
   "cell_type": "code",
   "execution_count": 247,
   "metadata": {},
   "outputs": [
    {
     "data": {
      "text/plain": [
       "Document(page_content='p.9/9\\nSHIMATI ClosingDate10/23/23 AccountEnding0-21003\\nIMPORTANT NOTICES\\nEFT Error ResolutionNotice\\nIn Case of Errors or Questions About Your Electronic Transfers Telephone us at 1-800-IPAY-AXP for Pay By\\nPhone questions, at 1-800-528-2122 for Pay By Computer questions, and at 1-800-528-4800 for AutoPay. You\\nmayalsowriteusatAmericanExpress,ElectronicFunds Services,P.O.Box981531,ElPasoTX79998-1531,or\\ncontact online at www.americanexpress.com/inquirycenter as soon as you can, if you think your statement or\\nreceipt is wrong or if you need more information about a transfer on the statement or receipt. We must hear from\\nyounolaterthan60daysafterwesentyoutheFIRSTstatementonwhichtheerrororproblemappeared.\\n1. Tellusyournameandaccountnumber(ifany).\\n2. Describe the error or the transfer you are unsure about, and explain as clearly as you can why you\\nbelieveitisanerrororwhyyouneedmoreinformation.\\n3. Tellusthedollaramountofthesuspectederror.\\nWe will investigate your complaint and will correct any error promptly. If we take more than 10 business days to\\ndo this, we will credit your accountfor theamount youthinkis in error, so that you will have theuse ofthe money\\nduringthetimeittakesustocompleteourinvestigation.\\nYour Cardmember Agreement\\nToaccessthemostuptodateversionofyourCardmemberAgreement,pleaselogintoyourAccountat\\nwww.americanexpress.com.\\nNotice of aChange tothe Membership Rewards® Program Terms& Conditions')"
      ]
     },
     "execution_count": 247,
     "metadata": {},
     "output_type": "execute_result"
    }
   ],
   "source": [
    "docs_tfidf=tfidf_retriever.get_relevant_documents(question)\n",
    "docs_tfidf[0]"
   ]
  },
  {
   "cell_type": "code",
   "execution_count": 248,
   "metadata": {},
   "outputs": [
    {
     "name": "stdout",
     "output_type": "stream",
     "text": [
      "8294\n"
     ]
    }
   ],
   "source": [
    "print(vectordb._collection.count())"
   ]
  },
  {
   "cell_type": "code",
   "execution_count": 254,
   "metadata": {},
   "outputs": [
    {
     "data": {
      "text/plain": [
       "20"
      ]
     },
     "execution_count": 254,
     "metadata": {},
     "output_type": "execute_result"
    }
   ],
   "source": [
    "docs = vectordb.similarity_search(question,k=20)\n",
    "len(docs)"
   ]
  },
  {
   "cell_type": "code",
   "execution_count": 255,
   "metadata": {},
   "outputs": [],
   "source": [
    "from langchain_openai import ChatOpenAI\n",
    "llm = ChatOpenAI(model_name='gpt-3.5-turbo', temperature=0)"
   ]
  },
  {
   "cell_type": "code",
   "execution_count": 261,
   "metadata": {},
   "outputs": [
    {
     "data": {
      "text/plain": [
       "'Based on the provided information, you spent a total of $20.00 at restaurants. This is calculated by adding up the two instances of the AMEXDiningCredit reimbursement, which are both -$10.00 each.'"
      ]
     },
     "execution_count": 261,
     "metadata": {},
     "output_type": "execute_result"
    }
   ],
   "source": [
    "from langchain.chains import RetrievalQA\n",
    "qa_chain = RetrievalQA.from_chain_type(\n",
    "    llm,\n",
    "    retriever=vectordb.as_retriever()\n",
    ")\n",
    "\n",
    "result = qa_chain({\"query\": \"How much did I spend at restaurants?\"})\n",
    "result[\"result\"]"
   ]
  },
  {
   "cell_type": "code",
   "execution_count": 262,
   "metadata": {},
   "outputs": [
    {
     "data": {
      "text/plain": [
       "Document(page_content='Reimbursement\\n04/07/23* AMEXDiningCredit -$10.00\\nReimbursement\\nNew Charges\\nSummary\\nPayInFull PayOverTime Total\\nTotal NewCharges $6,781.49 $6,008.02 $12,789.51', metadata={'Author': '', 'CreationDate': \"D:20240519155404-07'00'\", 'Creator': '', 'Keywords': '', 'ModDate': \"D:20240519155404-07'00'\", 'Producer': 'OpenText Output Transformation Engine - 16.3.19                                                     ', 'Subject': '', 'Title': '', 'file_path': 'AmexStatements/2023-04-21.pdf', 'page': 2, 'source': 'AmexStatements/2023-04-21.pdf', 'total_pages': 13})"
      ]
     },
     "execution_count": 262,
     "metadata": {},
     "output_type": "execute_result"
    }
   ],
   "source": [
    "from langchain.prompts import PromptTemplate\n",
    "\n",
    "# Build prompt\n",
    "template = \"\"\"The Vector Database has access to all my creditcard statements for the past year and a half. Use the following pieces of context to answer the question at the end. If you don't know the answer, just say that you don't know, don't try to make up an answer. Use three sentences maximum. Keep the answer as concise as possible. Always say \"thanks for asking!\" at the end of the answer. \n",
    "{context}\n",
    "Question: {question}\n",
    "Helpful Answer:\"\"\"\n",
    "QA_CHAIN_PROMPT = PromptTemplate.from_template(template)\n",
    "\n",
    "# Run chain\n",
    "qa_chain = RetrievalQA.from_chain_type(\n",
    "    llm,\n",
    "    retriever=vectordb.as_retriever(),\n",
    "    return_source_documents=True,\n",
    "    chain_type_kwargs={\"prompt\": QA_CHAIN_PROMPT}\n",
    ")\n",
    "\n",
    "result = qa_chain({\"query\": \"How much did I spend at restaurants?\"})\n",
    "result[\"result\"]\n",
    "result[\"source_documents\"][0]"
   ]
  },
  {
   "cell_type": "code",
   "execution_count": 277,
   "metadata": {},
   "outputs": [
    {
     "data": {
      "text/plain": [
       "'You spent a total of $10,109.90 on Spotify from January 2024 till April 2024.'"
      ]
     },
     "execution_count": 277,
     "metadata": {},
     "output_type": "execute_result"
    }
   ],
   "source": [
    "qa_chain_mr = RetrievalQA.from_chain_type(\n",
    "    llm,\n",
    "    retriever=vectordb.as_retriever(search_kwargs={\"k\": 60}),\n",
    "    chain_type=\"map_reduce\"\n",
    ")\n",
    "\n",
    "result = qa_chain_mr({\"query\": \"How much did I spend on Spotify from January 2024 till April 2024?\"})\n",
    "result[\"result\"]"
   ]
  },
  {
   "cell_type": "code",
   "execution_count": 268,
   "metadata": {},
   "outputs": [
    {
     "data": {
      "text/plain": [
       "'You spent $159.58 at ATHLETIC GREENS. Thanks for asking!'"
      ]
     },
     "execution_count": 268,
     "metadata": {},
     "output_type": "execute_result"
    }
   ],
   "source": [
    "# Build prompt\n",
    "from langchain.prompts import PromptTemplate\n",
    "template = \"\"\"Use the following pieces of context to answer the question at the end. If you don't know the answer, just say that you don't know, don't try to make up an answer. Use three sentences maximum. Keep the answer as concise as possible. Always say \"thanks for asking!\" at the end of the answer. \n",
    "{context}\n",
    "Question: {question}\n",
    "Helpful Answer:\"\"\"\n",
    "QA_CHAIN_PROMPT = PromptTemplate(input_variables=[\"context\", \"question\"],template=template,)\n",
    "\n",
    "# Run chain\n",
    "from langchain.chains import RetrievalQA\n",
    "qa_chain = RetrievalQA.from_chain_type(llm,\n",
    "                                       retriever=vectordb.as_retriever(search_kwargs={\"k\": 30}),\n",
    "                                       return_source_documents=True,\n",
    "                                       chain_type_kwargs={\"prompt\": QA_CHAIN_PROMPT})\n",
    "\n",
    "\n",
    "result = qa_chain({\"query\": question})\n",
    "result[\"result\"]"
   ]
  },
  {
   "cell_type": "code",
   "execution_count": null,
   "metadata": {},
   "outputs": [],
   "source": [
    "from langchain.memory import ConversationBufferMemory\n",
    "memory = ConversationBufferMemory(\n",
    "    memory_key=\"chat_history\",\n",
    "    return_messages=True\n",
    ")"
   ]
  },
  {
   "cell_type": "code",
   "execution_count": null,
   "metadata": {},
   "outputs": [],
   "source": [
    "from langchain.chains import ConversationalRetrievalChain\n",
    "retriever=vectordb.as_retriever()\n",
    "qa = ConversationalRetrievalChain.from_llm(\n",
    "    llm,\n",
    "    retriever=retriever,\n",
    "    memory=memory\n",
    ")"
   ]
  },
  {
   "cell_type": "code",
   "execution_count": null,
   "metadata": {},
   "outputs": [],
   "source": [
    "result = qa({\"question\": question})\n",
    "result[\"answer\"]"
   ]
  },
  {
   "cell_type": "code",
   "execution_count": 1,
   "metadata": {},
   "outputs": [],
   "source": [
    "from langchain.embeddings.openai import OpenAIEmbeddings\n",
    "from langchain.text_splitter import CharacterTextSplitter, RecursiveCharacterTextSplitter\n",
    "from langchain.vectorstores import DocArrayInMemorySearch\n",
    "from langchain.document_loaders import TextLoader\n",
    "from langchain.chains import RetrievalQA, ConversationalRetrievalChain\n",
    "from langchain.memory import ConversationBufferMemory\n",
    "from langchain.chat_models import ChatOpenAI\n",
    "from langchain.document_loaders import TextLoader\n",
    "from langchain.document_loaders import PyPDFLoader"
   ]
  },
  {
   "cell_type": "code",
   "execution_count": null,
   "metadata": {},
   "outputs": [],
   "source": [
    "def load_db(file, chain_type, k):\n",
    "    # load documents\n",
    "    loader = PyPDFLoader(file)\n",
    "    documents = loader.load()\n",
    "    # split documents\n",
    "    text_splitter = RecursiveCharacterTextSplitter(chunk_size=1000, chunk_overlap=150)\n",
    "    docs = text_splitter.split_documents(documents)\n",
    "    # define embedding\n",
    "    embeddings = OpenAIEmbeddings()\n",
    "    # create vector database from data\n",
    "    db = DocArrayInMemorySearch.from_documents(docs, embeddings)\n",
    "    # define retriever\n",
    "    retriever = db.as_retriever(search_type=\"similarity\", search_kwargs={\"k\": k})\n",
    "    # create a chatbot chain. Memory is managed externally.\n",
    "    qa = ConversationalRetrievalChain.from_llm(\n",
    "        llm=ChatOpenAI(model_name=llm_name, temperature=0), \n",
    "        chain_type=chain_type, \n",
    "        retriever=retriever, \n",
    "        return_source_documents=True,\n",
    "        return_generated_question=True,\n",
    "    )\n",
    "    return qa \n"
   ]
  },
  {
   "cell_type": "code",
   "execution_count": null,
   "metadata": {},
   "outputs": [],
   "source": [
    "import panel as pn\n",
    "import param\n",
    "\n",
    "class cbfs(param.Parameterized):\n",
    "    chat_history = param.List([])\n",
    "    answer = param.String(\"\")\n",
    "    db_query  = param.String(\"\")\n",
    "    db_response = param.List([])\n",
    "    \n",
    "    def __init__(self,  **params):\n",
    "        super(cbfs, self).__init__( **params)\n",
    "        self.panels = []\n",
    "        self.loaded_file = \"AmexStatements/2024-02-21.pdf\"\n",
    "        self.qa = load_db(self.loaded_file,\"stuff\", 4)\n",
    "    \n",
    "    def call_load_db(self, count):\n",
    "        if count == 0 or file_input.value is None:  # init or no file specified :\n",
    "            return pn.pane.Markdown(f\"Loaded File: {self.loaded_file}\")\n",
    "        else:\n",
    "            file_input.save(\"temp.pdf\")  # local copy\n",
    "            self.loaded_file = file_input.filename\n",
    "            button_load.button_style=\"outline\"\n",
    "            self.qa = load_db(\"temp.pdf\", \"stuff\", 4)\n",
    "            button_load.button_style=\"solid\"\n",
    "        self.clr_history()\n",
    "        return pn.pane.Markdown(f\"Loaded File: {self.loaded_file}\")\n",
    "\n",
    "    def convchain(self, query):\n",
    "        if not query:\n",
    "            return pn.WidgetBox(pn.Row('User:', pn.pane.Markdown(\"\", width=600)), scroll=True)\n",
    "        result = self.qa({\"question\": query, \"chat_history\": self.chat_history})\n",
    "        self.chat_history.extend([(query, result[\"answer\"])])\n",
    "        self.db_query = result[\"generated_question\"]\n",
    "        self.db_response = result[\"source_documents\"]\n",
    "        self.answer = result['answer'] \n",
    "        self.panels.extend([\n",
    "            pn.Row('User:', pn.pane.Markdown(query, width=600)),\n",
    "            pn.Row('ChatBot:', pn.pane.Markdown(self.answer, width=600, style={'background-color': '#F6F6F6'}))\n",
    "        ])\n",
    "        inp.value = ''  #clears loading indicator when cleared\n",
    "        return pn.WidgetBox(*self.panels,scroll=True)\n",
    "\n",
    "    @param.depends('db_query ', )\n",
    "    def get_lquest(self):\n",
    "        if not self.db_query :\n",
    "            return pn.Column(\n",
    "                pn.Row(pn.pane.Markdown(f\"Last question to DB:\", styles={'background-color': '#F6F6F6'})),\n",
    "                pn.Row(pn.pane.Str(\"no DB accesses so far\"))\n",
    "            )\n",
    "        return pn.Column(\n",
    "            pn.Row(pn.pane.Markdown(f\"DB query:\", styles={'background-color': '#F6F6F6'})),\n",
    "            pn.pane.Str(self.db_query )\n",
    "        )\n",
    "\n",
    "    @param.depends('db_response', )\n",
    "    def get_sources(self):\n",
    "        if not self.db_response:\n",
    "            return \n",
    "        rlist=[pn.Row(pn.pane.Markdown(f\"Result of DB lookup:\", styles={'background-color': '#F6F6F6'}))]\n",
    "        for doc in self.db_response:\n",
    "            rlist.append(pn.Row(pn.pane.Str(doc)))\n",
    "        return pn.WidgetBox(*rlist, width=600, scroll=True)\n",
    "\n",
    "    @param.depends('convchain', 'clr_history') \n",
    "    def get_chats(self):\n",
    "        if not self.chat_history:\n",
    "            return pn.WidgetBox(pn.Row(pn.pane.Str(\"No History Yet\")), width=600, scroll=True)\n",
    "        rlist=[pn.Row(pn.pane.Markdown(f\"Current Chat History variable\", styles={'background-color': '#F6F6F6'}))]\n",
    "        for exchange in self.chat_history:\n",
    "            rlist.append(pn.Row(pn.pane.Str(exchange)))\n",
    "        return pn.WidgetBox(*rlist, width=600, scroll=True)\n",
    "\n",
    "    def clr_history(self,count=0):\n",
    "        self.chat_history = []\n",
    "        return \n"
   ]
  },
  {
   "cell_type": "code",
   "execution_count": null,
   "metadata": {},
   "outputs": [],
   "source": [
    "cb = cbfs()\n",
    "\n",
    "file_input = pn.widgets.FileInput(accept='.pdf')\n",
    "button_load = pn.widgets.Button(name=\"Load DB\", button_type='primary')\n",
    "button_clearhistory = pn.widgets.Button(name=\"Clear History\", button_type='warning')\n",
    "button_clearhistory.on_click(cb.clr_history)\n",
    "inp = pn.widgets.TextInput( placeholder='Enter text here…')\n",
    "\n",
    "bound_button_load = pn.bind(cb.call_load_db, button_load.param.clicks)\n",
    "conversation = pn.bind(cb.convchain, inp) \n",
    "\n",
    "jpg_pane = pn.pane.Image( './img/convchain.jpg')\n",
    "\n",
    "tab1 = pn.Column(\n",
    "    pn.Row(inp),\n",
    "    pn.layout.Divider(),\n",
    "    pn.panel(conversation,  loading_indicator=True, height=300),\n",
    "    pn.layout.Divider(),\n",
    ")\n",
    "tab2= pn.Column(\n",
    "    pn.panel(cb.get_lquest),\n",
    "    pn.layout.Divider(),\n",
    "    pn.panel(cb.get_sources ),\n",
    ")\n",
    "tab3= pn.Column(\n",
    "    pn.panel(cb.get_chats),\n",
    "    pn.layout.Divider(),\n",
    ")\n",
    "tab4=pn.Column(\n",
    "    pn.Row( file_input, button_load, bound_button_load),\n",
    "    pn.Row( button_clearhistory, pn.pane.Markdown(\"Clears chat history. Can use to start a new topic\" )),\n",
    "    pn.layout.Divider(),\n",
    "    pn.Row(jpg_pane.clone(width=400))\n",
    ")\n",
    "dashboard = pn.Column(\n",
    "    pn.Row(pn.pane.Markdown('# ChatWithYourData_Bot')),\n",
    "    pn.Tabs(('Conversation', tab1), ('Database', tab2), ('Chat History', tab3),('Configure', tab4))\n",
    ")\n",
    "dashboard"
   ]
  },
  {
   "cell_type": "code",
   "execution_count": null,
   "metadata": {},
   "outputs": [],
   "source": []
  },
  {
   "cell_type": "code",
   "execution_count": null,
   "metadata": {},
   "outputs": [],
   "source": []
  }
 ],
 "metadata": {
  "kernelspec": {
   "display_name": ".venv",
   "language": "python",
   "name": "python3"
  },
  "language_info": {
   "codemirror_mode": {
    "name": "ipython",
    "version": 3
   },
   "file_extension": ".py",
   "mimetype": "text/x-python",
   "name": "python",
   "nbconvert_exporter": "python",
   "pygments_lexer": "ipython3",
   "version": "3.12.3"
  }
 },
 "nbformat": 4,
 "nbformat_minor": 2
}
